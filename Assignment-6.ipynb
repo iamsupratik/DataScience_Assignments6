{
 "cells": [
  {
   "cell_type": "markdown",
   "metadata": {},
   "source": [
    "##Write a function so that the columns of the output matrix are powers of the input\n",
    "vector.\n",
    "The order of the powers is determined by the increasing boolean argument. Specifically,\n",
    "when increasing is False, the i-th output column is the input vector raised element-wise\n",
    "to the power of N - i - 1."
   ]
  },
  {
   "cell_type": "code",
   "execution_count": 15,
   "metadata": {},
   "outputs": [
    {
     "name": "stdout",
     "output_type": "stream",
     "text": [
      "Enter the no of eleements in 1-D array you want:4\n",
      "Enter numbers in array: \n",
      "number_of_array_elements :4\n",
      "number_of_array_elements :5\n",
      "number_of_array_elements :3\n",
      "number_of_array_elements :7\n",
      "input array is:  [4, 5, 3, 7]\n",
      "Enter no of columns in the ouput you want:3\n"
     ]
    },
    {
     "data": {
      "text/plain": [
       "array([[16,  4,  1],\n",
       "       [25,  5,  1],\n",
       "       [ 9,  3,  1],\n",
       "       [49,  7,  1]])"
      ]
     },
     "execution_count": 15,
     "metadata": {},
     "output_type": "execute_result"
    }
   ],
   "source": [
    "\"\"\"\n",
    " Generate a Vandermonde matrix.\n",
    "    \n",
    " Parameters\n",
    "    ----------\n",
    "    x : array_like\n",
    "        1-D input array.\n",
    "    N : int, optional\n",
    "        Number of columns in the output.  If `N` is not specified, a square\n",
    "        array is returned (``N = len(x)``).\n",
    "    increasing : bool, optional\n",
    "        Order of the powers of the columns.  If True, the powers increase\n",
    "        from left to right, if False (the default) they are reversed.\n",
    "        .. versionadded:: 1.9.0\n",
    "    Returns\n",
    "    -------\n",
    "    out : ndarray\n",
    "        Vandermonde matrix.  If `increasing` is False, the first column is\n",
    "        ``x^(N-1)``, the second ``x^(N-2)`` and so forth. If `increasing` is\n",
    "        True, the columns are ``x^0, x^1, ..., x^(N-1)``.\n",
    "    \n",
    "\"\"\"\n",
    "    \n",
    "\n",
    "import numpy as np\n",
    "input_array = list()\n",
    "number_of_array_elements = input(\"Enter the no of eleements in 1-D array you want:\")\n",
    "print ('Enter numbers in array: ')\n",
    "for i in range(int(number_of_array_elements)):\n",
    "    n = input(\"number_of_array_elements :\")\n",
    "    input_array.append(int(n))\n",
    "print ('input array is: ',input_array)\n",
    "x = np.array(input_array)\n",
    "N = input(\"Enter no of columns in the ouput you want:\")\n",
    "np.vander(x,int(N))\n"
   ]
  }
 ],
 "metadata": {
  "kernelspec": {
   "display_name": "Python 3",
   "language": "python",
   "name": "python3"
  },
  "language_info": {
   "codemirror_mode": {
    "name": "ipython",
    "version": 3
   },
   "file_extension": ".py",
   "mimetype": "text/x-python",
   "name": "python",
   "nbconvert_exporter": "python",
   "pygments_lexer": "ipython3",
   "version": "3.6.5"
  }
 },
 "nbformat": 4,
 "nbformat_minor": 2
}
